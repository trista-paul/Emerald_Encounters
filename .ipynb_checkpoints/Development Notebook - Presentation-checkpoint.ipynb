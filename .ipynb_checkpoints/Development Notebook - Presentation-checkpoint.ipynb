{
 "cells": [
  {
   "cell_type": "code",
   "execution_count": 2,
   "metadata": {
    "ExecuteTime": {
     "end_time": "2019-09-04T04:38:54.153888Z",
     "start_time": "2019-09-04T04:38:52.976272Z"
    }
   },
   "outputs": [],
   "source": [
    "#imports including created csvs, db\n",
    "import requests\n",
    "from bs4 import BeautifulSoup\n",
    "import pandas as pd\n",
    "import sqlite3\n",
    "\n",
    "conn = sqlite3.connect('Emerald_Encounters_v2')\n",
    "cursor = conn.cursor()\n",
    "\n",
    "locations = pd.read_csv(\"locationlist.csv\")['0'].tolist()\n",
    "pokemon = pd.read_csv(\"pokemonlist.csv\")['0'].tolist()\n",
    "locations.remove('abandonedship')\n",
    "locations.remove('skypillar')\n",
    "locations.remove('route110')\n",
    "locations.remove('miragetower')"
   ]
  },
  {
   "cell_type": "markdown",
   "metadata": {
    "heading_collapsed": true
   },
   "source": [
    "# WILDS(LOCATION, ENCOUNTER_ID, METHOD, NAME, LV)"
   ]
  },
  {
   "cell_type": "code",
   "execution_count": 27,
   "metadata": {
    "ExecuteTime": {
     "end_time": "2019-09-01T20:58:18.248689Z",
     "start_time": "2019-09-01T20:58:17.719755Z"
    },
    "hidden": true
   },
   "outputs": [],
   "source": [
    "cursor.execute('DROP TABLE WILDS;')\n",
    "conn.commit()"
   ]
  },
  {
   "cell_type": "code",
   "execution_count": 28,
   "metadata": {
    "ExecuteTime": {
     "end_time": "2019-09-01T20:58:20.660178Z",
     "start_time": "2019-09-01T20:58:20.323135Z"
    },
    "hidden": true
   },
   "outputs": [],
   "source": [
    "cursor.execute('CREATE TABLE WILDS \\\n",
    "                  (LOCATION TEXT NOT NULL, \\\n",
    "                   ENCOUNTER_ID INT NOT NULL, \\\n",
    "                   METHOD TEXT NOT NULL, \\\n",
    "                   NAME TEXT NOT NULL, \\\n",
    "                   ABILITY TEXT, \\\n",
    "                   LV INT NOT NULL, \\\n",
    "                   MOVE1 TEXT, \\\n",
    "                   MOVE2 TEXT, \\\n",
    "                   MOVE3 TEXT, \\\n",
    "                   MOVE4 TEXT);')\n",
    "conn.commit()"
   ]
  },
  {
   "cell_type": "code",
   "execution_count": 29,
   "metadata": {
    "ExecuteTime": {
     "end_time": "2019-09-01T21:00:11.856045Z",
     "start_time": "2019-09-01T20:58:28.236707Z"
    },
    "hidden": true
   },
   "outputs": [],
   "source": [
    "for l in range(len(locations)):\n",
    "    url =  'https://www.serebii.net/pokearth/hoenn/3rd/' + str(locations[l]) + '.shtml'\n",
    "    response = requests.get(url)\n",
    "    soup = BeautifulSoup(response.content, \"html.parser\")\n",
    "\n",
    "    method_list = ['grass', 'surf', 'fish', 'rocksmash', 'interact', 'gift']\n",
    "    anchortab = soup.find_all('table', attrs={'class':'anctab'})\n",
    "    anchortab = anchortab[1]\n",
    "    anchors = anchortab.find_all('td', attrs = {'class' : method_list})\n",
    "    method = []\n",
    "    for anchor in anchors:\n",
    "        method.append(anchor.text.strip().lower())\n",
    "        \n",
    "    if locations[l] == 'route120':\n",
    "        method.append('interaction')\n",
    "        \n",
    "    #scraping multifloor location encounter tables\n",
    "    if 'area anchors' in method:\n",
    "        anchors = anchortab.find_all('td', attrs = {'class' : 'pkmn'})\n",
    "        floor = []\n",
    "        for anchor in anchors:\n",
    "            floor.append(anchor.text.strip().lower())\n",
    "        floor = list(filter(None, floor))\n",
    "        null_anchors = ['gym', 'museum', 'pokemon league',\n",
    "                        'space centre', 'winstrate house',\n",
    "                        'underwaterentrance', 'room1', 'room2',\n",
    "                        'room3', 'room4', 'room5', 'room8', 'room10']\n",
    "        for anchor in null_anchors:\n",
    "            if anchor in floor:\n",
    "                floor.remove(anchor)\n",
    "\n",
    "        #fetch encounter anchors by floor, and filter junk anchors\n",
    "        anchors_by_floor = soup.find_all('table', attrs={'class':'anctab'})[2:]\n",
    "        x = len(anchors_by_floor)\n",
    "        for n in range(x):\n",
    "            if 'AnchorsRuby/SapphireEmerald' in anchors_by_floor[x - n - 1].text:\n",
    "                anchors_by_floor.remove(anchors_by_floor[x - n - 1])\n",
    "\n",
    "        #fetch encounter methods iterating such that they include floor\n",
    "        method_list = ['grass', 'surf', 'fish', 'rocksmash', 'interact', 'gift']\n",
    "        floor_iter = 0\n",
    "        method = []\n",
    "        for anchors in anchors_by_floor:\n",
    "            anchors = anchors.find_all('td', attrs = {'class' : method_list})\n",
    "            if locations[l] == 'route111':\n",
    "                method.append('rock smash')\n",
    "            for anchor in anchors:\n",
    "                method.append(floor[floor_iter]+\" \"+anchor.text.strip().lower())\n",
    "            floor_iter += 1\n",
    "\n",
    "        if locations[l] == 'route111':\n",
    "            method.remove(method[6])\n",
    "\n",
    "        #standardize method naming convention\n",
    "        method_proper = []\n",
    "        for s in method:\n",
    "            s = s.replace('standard walking', 'walk')\n",
    "            s = s.replace('standard surfing', 'surf')\n",
    "            s = s.replace('underwater', 'dive')\n",
    "            s = s.replace('main area', '')\n",
    "            method_proper.append(s.strip().lower())\n",
    "        method = method_proper\n",
    "\n",
    "        #fetch names, levels from encounter table\n",
    "        tables = soup.find_all('table', attrs = {'class' : 'dextable'})\n",
    "        encounters = []\n",
    "        for table in tables:\n",
    "            tags_encounters = table.find_all('td', attrs = {'class' : 'name'})\n",
    "            encounter_by_method = []\n",
    "            for name in tags_encounters:\n",
    "                encounter_by_method.append(name.text.strip().lower())\n",
    "            encounters.append(encounter_by_method)\n",
    "\n",
    "        encounter_levels = []\n",
    "        for table in tables:\n",
    "            tags_levels = table.find_all('td', attrs = {'class' : 'level'})\n",
    "            levels_by_method = []\n",
    "            for level in tags_levels:\n",
    "                levels_by_method.append(int(level.text.strip()))\n",
    "            encounter_levels.append(levels_by_method)\n",
    "\n",
    "        max_levels = []\n",
    "        for n in range(len(encounter_levels)):\n",
    "            max_levels_by_method = []\n",
    "            for i in range(len(encounter_levels[n])):\n",
    "                if encounter_levels[n][i] == 0:\n",
    "                    continue\n",
    "                if i % 2 != 0:\n",
    "                    max_levels_by_method.append(encounter_levels[n][i])\n",
    "                else:\n",
    "                    continue\n",
    "            max_levels.append(max_levels_by_method)\n",
    "            \n",
    "        #exceptions/special cases\n",
    "        if 'gift pokémon' in method or 'weather institute gift pokémon' in method:\n",
    "            method.remove(method[-1])\n",
    "            encounters = encounters[:-2]\n",
    "            max_levels = max_levels[:-2]\n",
    "\n",
    "        if locations[l] == 'caveoforigin':\n",
    "            method = method[:-4]\n",
    "            \n",
    "    else:\n",
    "        #scraping single floor location encounter table\n",
    "        tables = soup.find_all('table', attrs = {'class' : 'dextable'})\n",
    "\n",
    "        #exception for gift pokemon\n",
    "        if 'gift pokémon' in method:\n",
    "            method.remove('gift pokémon')\n",
    "            x = len(tables)\n",
    "            for n in range(x):\n",
    "                if 'Gift' in tables[x - n - 1].text:\n",
    "                    tables.remove(tables[x - n - 1])\n",
    "                    \n",
    "        #fetch names, levels from encounter table\n",
    "        encounters = []\n",
    "        for table in tables:\n",
    "            tags_encounters = table.find_all('td', attrs = {'class' : 'name'})\n",
    "            encounter_by_method = []\n",
    "            for name in tags_encounters:\n",
    "                encounter_by_method.append(name.text.strip().lower())\n",
    "            encounters.append(encounter_by_method)\n",
    "\n",
    "        encounter_levels = []\n",
    "        for table in tables:\n",
    "            tags_levels = table.find_all('td', attrs = {'class' : 'level'})\n",
    "            levels_by_method = []\n",
    "            for level in tags_levels:\n",
    "                levels_by_method.append(int(level.text.strip()))\n",
    "            encounter_levels.append(levels_by_method)\n",
    "\n",
    "        max_levels = []\n",
    "        for n in range(len(encounter_levels)):\n",
    "            max_levels_by_method = []\n",
    "            for i in range(len(encounter_levels[n])):\n",
    "                if encounter_levels[n][i] == 0:\n",
    "                    continue\n",
    "                if i % 2 != 0:\n",
    "                    max_levels_by_method.append(encounter_levels[n][i])\n",
    "                else:\n",
    "                    continue\n",
    "            max_levels.append(max_levels_by_method)\n",
    "            \n",
    "    #uploading encounter table to db  \n",
    "    ID = 0\n",
    "    for m in range(len(encounters)): #number of encounter tables in route\n",
    "        for x in range(len(encounters[m])): #number of encounters in table\n",
    "            cursor.execute(\"INSERT INTO WILDS (LOCATION, ENCOUNTER_ID, METHOD, NAME, LV) \\\n",
    "                            VALUES('\"+str(locations[l])+\"',\" \\\n",
    "                                     +str(ID)+\",'\" \\\n",
    "                                     +str(method[m])+\"','\" \\\n",
    "                                     +str(encounters[m][x])+\"',\" \\\n",
    "                                     +str(max_levels[m][x])+\")\");\n",
    "            ID += 1\n",
    "conn.commit()\n"
   ]
  },
  {
   "cell_type": "code",
   "execution_count": 30,
   "metadata": {
    "ExecuteTime": {
     "end_time": "2019-09-01T21:00:44.768728Z",
     "start_time": "2019-09-01T21:00:34.176625Z"
    },
    "hidden": true
   },
   "outputs": [],
   "source": [
    "route110 = [['route110', 'walk', 'electrike', 13],\n",
    "            ['route110', 'walk', 'poochyena', 12],\n",
    "            ['route110', 'walk', 'minun', 13],\n",
    "            ['route110', 'walk', 'gulpin', 13],\n",
    "            ['route110', 'walk', 'oddish', 13],\n",
    "            ['route110', 'walk', 'wingull', 12],\n",
    "            ['route110', 'walk', 'plusle', 13],\n",
    "            ['route110', 'surf', 'tentacool', 35],\n",
    "            ['route110', 'surf', 'wingull', 30],\n",
    "            ['route110', 'surf', 'pelipper', 30],\n",
    "            ['route110', 'old rod', 'magikarp', 10],\n",
    "            ['route110', 'old rod', 'tentacool', 10],\n",
    "            ['route110', 'good rod', 'magikarp', 30],\n",
    "            ['route110', 'good rod', 'tentacool', 30],\n",
    "            ['route110', 'good rod', 'wailmer', 30],\n",
    "            ['route110', 'super rod', 'wailmer', 45]]\n",
    "            \n",
    "miragetower = [['miragetower', 'walk', 'sandshrew', 24],\n",
    "               ['miragetower', 'walk', 'trapinch', 24]]\n",
    "               \n",
    "abandonedship = [['abandonedship', 'surf', 'tentacool', 35],\n",
    "                 ['abandonedship', 'surf', 'tentacruel', 35],\n",
    "                 ['abandonedship', 'old rod', 'magikarp', 10],\n",
    "                 ['abandonedship', 'old rod', 'tentacool', 10],\n",
    "                 ['abandonedship', 'good rod', 'magikarp', 30],\n",
    "                 ['abandonedship', 'good rod', 'tentacool', 30],\n",
    "                 ['abandonedship', 'super rod', 'tentacool', 35],\n",
    "                 ['abandonedship', 'super rod', 'tentacruel', 35]]\n",
    "\n",
    "skypillar = [['skypillar', '1f walk', 'golbat', 35],\n",
    "             ['skypillar', '1f walk', 'sableye', 34],\n",
    "             ['skypillar', '1f walk', 'claydol', 38],\n",
    "             ['skypillar', '1f walk', 'banette', 38],\n",
    "             ['skypillar', '3f walk', 'golbat', 35],\n",
    "             ['skypillar', '3f walk', 'sableye', 34],\n",
    "             ['skypillar', '3f walk', 'claydol', 38],\n",
    "             ['skypillar', '3f walk', 'banette', 38],\n",
    "             ['skypillar', '5f walk', 'golbat', 35],\n",
    "             ['skypillar', '5f walk', 'sableye', 34],\n",
    "             ['skypillar', '5f walk', 'claydol', 37],\n",
    "             ['skypillar', '5f walk', 'banette', 38],\n",
    "             ['skypillar', '5f walk', 'altaria', 39],\n",
    "             ['skypillar', '6f interaction', 'rayquaza', 70]]\n",
    "             \n",
    "manual = [route110, miragetower, abandonedship, skypillar]\n",
    "\n",
    "for location in manual:\n",
    "    for x in range(len(location)):\n",
    "        cursor.execute(\"INSERT INTO WILDS (LOCATION, ENCOUNTER_ID, METHOD, NAME, LV) \\\n",
    "                        VALUES('\"+str(location[x][0])+\"',\" \\\n",
    "                                 +str(x)+\",'\" \\\n",
    "                                 +str(location[x][1])+\"','\" \\\n",
    "                                 +str(location[x][2])+\"',\" \\\n",
    "                                 +str(location[x][3])+\")\");\n",
    "        conn.commit()\n"
   ]
  },
  {
   "cell_type": "code",
   "execution_count": 31,
   "metadata": {
    "ExecuteTime": {
     "end_time": "2019-09-01T21:01:01.511382Z",
     "start_time": "2019-09-01T21:01:00.984923Z"
    },
    "hidden": true
   },
   "outputs": [],
   "source": [
    "#renaming method values\n",
    "cursor.execute(\"UPDATE WILDS \\\n",
    "               SET METHOD = 'walk' \\\n",
    "               WHERE METHOD = 'standard walking';\")\n",
    "cursor.execute(\"UPDATE WILDS \\\n",
    "               SET METHOD = 'surf' \\\n",
    "               WHERE METHOD = 'standard surfing';\")\n",
    "cursor.execute(\"UPDATE WILDS \\\n",
    "               SET METHOD = 'dive' \\\n",
    "               WHERE METHOD = 'underwater';\")\n",
    "conn.commit()\n"
   ]
  },
  {
   "cell_type": "code",
   "execution_count": 32,
   "metadata": {
    "ExecuteTime": {
     "end_time": "2019-09-01T21:01:44.009237Z",
     "start_time": "2019-09-01T21:01:43.672522Z"
    },
    "hidden": true
   },
   "outputs": [
    {
     "name": "stdout",
     "output_type": "stream",
     "text": [
      "['aipom', 'teddiursa', 'ledyba', 'sunkern', 'hoothoot', 'pineco', 'houndour', 'miltank', 'shuckle', 'mareep', 'spinarak', 'gligar', 'snubbull', 'stantler', 'wooper', 'quagsire', 'remoraid', 'octillery']\n"
     ]
    }
   ],
   "source": [
    "#filter out nat dex pokemon that happened to be scraped in the encounter tables\n",
    "cursor.execute(\"SELECT DISTINCT NAME FROM WILDS;\")\n",
    "wilds_pkmn = cursor.fetchall()\n",
    "wilds_list = []\n",
    "for tuple_list in wilds_pkmn:\n",
    "    wilds_list.append(tuple_list[0])\n",
    "\n",
    "for mon in pokemon:\n",
    "    if mon in wilds_list:\n",
    "        wilds_list.remove(mon)\n",
    "        \n",
    "for mon in wilds_list:\n",
    "    cursor.execute(\"DELETE FROM WILDS WHERE NAME == '\"+str(mon)+\"';\")\n",
    "conn.commit()\n",
    "        \n",
    "print(wilds_list)"
   ]
  },
  {
   "cell_type": "markdown",
   "metadata": {
    "heading_collapsed": true
   },
   "source": [
    "# POKEMON(PKID, NAME)"
   ]
  },
  {
   "cell_type": "code",
   "execution_count": 8,
   "metadata": {
    "ExecuteTime": {
     "end_time": "2019-09-01T20:31:47.113009Z",
     "start_time": "2019-09-01T20:31:46.846181Z"
    },
    "hidden": true
   },
   "outputs": [],
   "source": [
    "cursor.execute('CREATE TABLE POKEMON \\\n",
    "                  (PKID INT NOT NULL, \\\n",
    "                   NAME TEXT NOT NULL, \\\n",
    "                   ABILITY TEXT);')\n",
    "conn.commit()\n"
   ]
  },
  {
   "cell_type": "code",
   "execution_count": 9,
   "metadata": {
    "ExecuteTime": {
     "end_time": "2019-09-01T20:31:50.691189Z",
     "start_time": "2019-09-01T20:31:50.365361Z"
    },
    "hidden": true
   },
   "outputs": [],
   "source": [
    "#ids are 0-117 in order of list\n",
    "for n in range(len(pokemon)):\n",
    "     cursor.execute(\"INSERT INTO POKEMON (PKID, NAME) \\\n",
    "                     VALUES(\" +str(n) +\",'\" +str(pokemon[n]) +\"');\")\n",
    "conn.commit()\n"
   ]
  },
  {
   "cell_type": "markdown",
   "metadata": {
    "heading_collapsed": true
   },
   "source": [
    "# LEARNSETS(PKID, MOVE, LV)"
   ]
  },
  {
   "cell_type": "code",
   "execution_count": 11,
   "metadata": {
    "ExecuteTime": {
     "end_time": "2019-09-01T20:32:04.898427Z",
     "start_time": "2019-09-01T20:32:04.507512Z"
    },
    "hidden": true
   },
   "outputs": [],
   "source": [
    "cursor.execute('CREATE TABLE LEARNSETS \\\n",
    "                  (PKID INT NOT NULL, \\\n",
    "                   MOVE TEXT NOT NULL, \\\n",
    "                   LV INT NOT NULL);')\n",
    "conn.commit()\n"
   ]
  },
  {
   "cell_type": "code",
   "execution_count": 12,
   "metadata": {
    "ExecuteTime": {
     "end_time": "2019-09-01T20:34:15.215084Z",
     "start_time": "2019-09-01T20:32:09.383276Z"
    },
    "hidden": true
   },
   "outputs": [],
   "source": [
    "for n in range(len(pokemon)):\n",
    "\n",
    "    #soup\n",
    "    url = 'https://pokemondb.net/pokedex/' + str(pokemon[n]) + '/moves/3'\n",
    "    response = requests.get(url)\n",
    "    soup = BeautifulSoup(response.content, \"html.parser\")\n",
    "    \n",
    "    #list of moves\n",
    "    table = soup.find('tbody')\n",
    "    tags_moves = table.find_all('a', attrs = {'class' : 'ent-name'})\n",
    "    moves = []\n",
    "    for move in tags_moves:\n",
    "        moves.append(move.text.strip().lower())\n",
    "    \n",
    "    #list of move levels\n",
    "    tags_cells = table.find_all('tr')\n",
    "    tags_levels = []\n",
    "    for cell in tags_cells:\n",
    "        level = cell.find('td', attrs = {'class' : 'cell-num'})\n",
    "        tags_levels.append(level)\n",
    "    levels = []\n",
    "    for level in tags_levels:\n",
    "        levels.append(int(level.text.strip()))\n",
    "    \n",
    "    #populate table              \n",
    "    for i in range(len(moves)):\n",
    "        cursor.execute(\"INSERT INTO LEARNSETS (PKID, MOVE, LV) \\\n",
    "                        VALUES(\"+str(n)+\",'\"+str(moves[i]) +\"',\" \\\n",
    "                                + str(levels[i]) +\")\")\n",
    "    conn.commit()\n",
    "    "
   ]
  },
  {
   "cell_type": "markdown",
   "metadata": {},
   "source": [
    "# WILDS(MOVE1, MOVE2, MOVE3, MOVE4"
   ]
  },
  {
   "cell_type": "code",
   "execution_count": 33,
   "metadata": {
    "ExecuteTime": {
     "end_time": "2019-09-01T21:01:56.266632Z",
     "start_time": "2019-09-01T21:01:56.256451Z"
    }
   },
   "outputs": [],
   "source": [
    "locations = pd.read_csv(\"locationlist.csv\")['0'].tolist()"
   ]
  },
  {
   "cell_type": "code",
   "execution_count": null,
   "metadata": {
    "ExecuteTime": {
     "start_time": "2019-09-01T21:02:01.984Z"
    }
   },
   "outputs": [],
   "source": [
    "for loc in locations:\n",
    "    \n",
    "    #get encounter table for location\n",
    "    cursor.execute(\"SELECT * FROM WILDS WHERE LOCATION == '\"+str(loc)+\"';\")\n",
    "    encounters = cursor.fetchall()\n",
    "\n",
    "    for mon in encounters:\n",
    "        \n",
    "        #get moveset for a given encounter\n",
    "        LOCATION = mon[0]\n",
    "        ENCOUNTER_ID = mon[1]\n",
    "        NAME = mon[3]\n",
    "        LV = mon[5]\n",
    "\n",
    "        cursor.execute(\"SELECT PKID FROM POKEMON \\\n",
    "                        WHERE NAME =='\"+str(NAME)+\"';\")\n",
    "        PKID = cursor.fetchall()[0][0]\n",
    "        cursor.execute(\"SELECT MOVE FROM LEARNSETS \\\n",
    "                                WHERE PKID == \"+str(PKID)+\" \\\n",
    "                                AND LV <= \"+str(LV)+\" \\\n",
    "                                ORDER BY LV DESC LIMIT 4;\")\n",
    "        moveset = cursor.fetchall()\n",
    "\n",
    "        #converting moveset to a list\n",
    "        moveset_as_list = []\n",
    "        for tuple_list in moveset:\n",
    "            moveset_as_list.append(tuple_list[0])\n",
    "\n",
    "        #add moveset to wilds\n",
    "        if len(moveset_as_list) == 4:\n",
    "            cursor.execute(\"UPDATE WILDS \\\n",
    "                            SET MOVE1 = '\"+str(moveset_as_list[0])+\"', \\\n",
    "                                MOVE2 = '\"+str(moveset_as_list[1])+\"', \\\n",
    "                                MOVE3 = '\"+str(moveset_as_list[2])+\"', \\\n",
    "                                MOVE4 = '\"+str(moveset_as_list[3])+\"' \\\n",
    "                            WHERE LOCATION == '\"+str(LOCATION)+\"' \\\n",
    "                                  AND ENCOUNTER_ID == \"+str(ENCOUNTER_ID)+\";\")\n",
    "            conn.commit()\n",
    "        elif len(moveset_as_list) == 3:\n",
    "            cursor.execute(\"UPDATE WILDS \\\n",
    "                            SET MOVE1 = '\"+str(moveset_as_list[0])+\"', \\\n",
    "                                MOVE2 = '\"+str(moveset_as_list[1])+\"', \\\n",
    "                                MOVE3 = '\"+str(moveset_as_list[2])+\"' \\\n",
    "                            WHERE LOCATION == '\"+str(LOCATION)+\"' \\\n",
    "                                  AND ENCOUNTER_ID == \"+str(ENCOUNTER_ID)+\";\")\n",
    "            conn.commit()\n",
    "        elif len(moveset_as_list) == 2:\n",
    "            cursor.execute(\"UPDATE WILDS \\\n",
    "                            SET MOVE1 = '\"+str(moveset_as_list[0])+\"', \\\n",
    "                                MOVE2 = '\"+str(moveset_as_list[1])+\"' \\\n",
    "                            WHERE LOCATION == '\"+str(LOCATION)+\"' \\\n",
    "                                  AND ENCOUNTER_ID == \"+str(ENCOUNTER_ID)+\";\")\n",
    "            conn.commit()\n",
    "        else:\n",
    "            cursor.execute(\"UPDATE WILDS \\\n",
    "                            SET MOVE1 = '\"+str(moveset_as_list[0])+\"' \\\n",
    "                            WHERE LOCATION == '\"+str(LOCATION)+\"' \\\n",
    "                                  AND ENCOUNTER_ID == \"+str(ENCOUNTER_ID)+\";\")\n",
    "            conn.commit()\n"
   ]
  },
  {
   "cell_type": "code",
   "execution_count": 2,
   "metadata": {
    "ExecuteTime": {
     "end_time": "2019-09-04T04:26:47.162997Z",
     "start_time": "2019-09-04T04:26:46.793955Z"
    }
   },
   "outputs": [],
   "source": [
    "#drop now-unneeded ENCOUNTER_ID, and ABILITY to move it\n",
    "cursor.execute(\"CREATE TEMPORARY TABLE WILDS_BACKUP(LOCATION, METHOD, NAME, LV, MOVE1, MOVE2, MOVE3, MOVE4);\")\n",
    "cursor.execute(\"INSERT INTO WILDS_BACKUP SELECT LOCATION, METHOD, NAME, LV, MOVE1, MOVE2, MOVE3, MOVE4 FROM WILDS;\")\n",
    "cursor.execute(\"DROP TABLE WILDS;\")\n",
    "cursor.execute(\"CREATE TABLE WILDS(LOCATION, METHOD, NAME, LV, MOVE1, MOVE2, MOVE3, MOVE4);\")\n",
    "cursor.execute(\"INSERT INTO WILDS SELECT LOCATION, METHOD, NAME, LV, MOVE1, MOVE2, MOVE3, MOVE4 FROM WILDS_BACKUP;\")\n",
    "cursor.execute(\"DROP TABLE WILDS_BACKUP;\")\n",
    "conn.commit()"
   ]
  },
  {
   "cell_type": "code",
   "execution_count": 3,
   "metadata": {
    "ExecuteTime": {
     "end_time": "2019-09-04T04:38:58.820101Z",
     "start_time": "2019-09-04T04:38:58.613301Z"
    }
   },
   "outputs": [],
   "source": [
    "#drop straggling values from unavailable safari zone extention\n",
    "cursor.execute(\"DELETE FROM WILDS WHERE METHOD == 'extention south surf';\")\n",
    "cursor.execute(\"DELETE FROM WILDS WHERE METHOD == 'extention south old rod';\")\n",
    "cursor.execute(\"DELETE FROM WILDS WHERE METHOD == 'extention south good rod';\")\n",
    "cursor.execute(\"DELETE FROM WILDS WHERE METHOD == 'extention south super rod';\")\n",
    "conn.commit()"
   ]
  },
  {
   "cell_type": "markdown",
   "metadata": {
    "heading_collapsed": true
   },
   "source": [
    "# POKEMON(ABILITY)"
   ]
  }
 ],
 "metadata": {
  "kernelspec": {
   "display_name": "Python 3",
   "language": "python",
   "name": "python3"
  },
  "toc": {
   "base_numbering": 1,
   "nav_menu": {},
   "number_sections": true,
   "sideBar": true,
   "skip_h1_title": false,
   "title_cell": "Table of Contents",
   "title_sidebar": "Contents",
   "toc_cell": false,
   "toc_position": {},
   "toc_section_display": true,
   "toc_window_display": false
  },
  "varInspector": {
   "cols": {
    "lenName": 16,
    "lenType": 16,
    "lenVar": 40
   },
   "kernels_config": {
    "python": {
     "delete_cmd_postfix": "",
     "delete_cmd_prefix": "del ",
     "library": "var_list.py",
     "varRefreshCmd": "print(var_dic_list())"
    },
    "r": {
     "delete_cmd_postfix": ") ",
     "delete_cmd_prefix": "rm(",
     "library": "var_list.r",
     "varRefreshCmd": "cat(var_dic_list()) "
    }
   },
   "types_to_exclude": [
    "module",
    "function",
    "builtin_function_or_method",
    "instance",
    "_Feature"
   ],
   "window_display": false
  }
 },
 "nbformat": 4,
 "nbformat_minor": 2
}
