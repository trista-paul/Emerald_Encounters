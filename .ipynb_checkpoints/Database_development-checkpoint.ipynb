{
 "cells": [
  {
   "cell_type": "markdown",
   "metadata": {},
   "source": [
    "OBJECT\n",
    "This database is to provide a tool for a particular challenge run in the videogame \"Pokemon Emerald\" where the ROM has been altered to disable experience gain. In this run, caught Pokemon will be stuck with the moves they are first caught with. This database has tables for all in-game locations and includes the available Pokemon at that location, their maximum possible level at encounter, and their four move slots in respect to their level. \n",
    "\n",
    "This data exists online, but would involve searching the move tables of every individual creature as it came up on the current in game location. It is also a practice project for creating databases from disparate data sources and for advanced web scraping.\n",
    "\n",
    "GETTING THE LEARNSET DATA\n",
    "1. scrape the names, in lowercase, of the Pokemon in Hoenn Pokedex.\n",
    "   https://pokemondb.net/pokedex/game/ruby-sapphire-emerald\n",
    "   list: names\n",
    "2. loop the pages https://pokemondb.net/pokedex/lotad/moves/3\n",
    "   with a variable iterating over names in place of lotad.\n",
    "3. For each name in names...\n",
    "   Scrape the 'Moves learnt by level up' table ('Lv.' and 'Move') from page.\n",
    "   Create a table 'name' containing 'Name', 'Level' and 'Move'.\n",
    "   \n",
    "GETTING THE LOCATION DATA\n",
    "1. scrape the locations in lowercase with no spaces.\n",
    "   https://pokemondb.net/location#tab-hoenn\n",
    "   list: locations\n",
    "2. loop the pages https://www.serebii.net/pokearth/hoenn/3rd/route102.shtml    with a variable 'loc' in place of route102.\n",
    "3. For each loc in locations...\n",
    "   Scrape the 'Pokemon Emerald' container (Pokemon name, 'Max Level') in the    'Standard Walking' container\n",
    "   create a table 'location' containing 'Name', 'MaxLv', 'Method' (which should be set equal to \"grass\"),\n",
    "   'Move1', 'Move2', 'Move3', 'Move4'.\n",
    "   \n",
    "BRINGING THE LOCATION AND LEARNSET DATA TOGETHER"
   ]
  },
  {
   "cell_type": "code",
   "execution_count": 3,
   "metadata": {
    "ExecuteTime": {
     "end_time": "2019-08-30T02:26:49.367764Z",
     "start_time": "2019-08-30T02:26:49.350602Z"
    }
   },
   "outputs": [],
   "source": [
    "#imports including created csvs, db\n",
    "import requests\n",
    "from bs4 import BeautifulSoup\n",
    "import pandas as pd\n",
    "import sqlite3\n",
    "\n",
    "conn = sqlite3.connect('Emerald_Encounters')\n",
    "cursor = conn.cursor()\n",
    "\n",
    "locations = pd.read_csv(\"locationlist.csv\")['0'].tolist()\n",
    "pokemon = pd.read_csv(\"pokemonlist.csv\")['0'].tolist()"
   ]
  },
  {
   "cell_type": "markdown",
   "metadata": {
    "heading_collapsed": true
   },
   "source": [
    "# Locations List"
   ]
  },
  {
   "cell_type": "code",
   "execution_count": 65,
   "metadata": {
    "ExecuteTime": {
     "end_time": "2019-08-30T06:54:09.842857Z",
     "start_time": "2019-08-30T06:54:09.341395Z"
    },
    "hidden": true
   },
   "outputs": [],
   "source": [
    "url_loc = 'https://pokemondb.net/location#tab-hoenn'\n",
    "response_loc = requests.get(url_loc)\n",
    "soup_loc = BeautifulSoup(response_loc.content, \"html.parser\")"
   ]
  },
  {
   "cell_type": "code",
   "execution_count": 66,
   "metadata": {
    "ExecuteTime": {
     "end_time": "2019-08-30T06:54:24.298441Z",
     "start_time": "2019-08-30T06:54:24.286786Z"
    },
    "hidden": true
   },
   "outputs": [
    {
     "name": "stdout",
     "output_type": "stream",
     "text": [
      "Route 101\n",
      "Route 102\n",
      "Route 103\n",
      "Route 104\n",
      "Route 105\n",
      "Route 106\n",
      "Route 107\n",
      "Route 108\n",
      "Route 109\n",
      "Route 110\n",
      "Route 111\n",
      "Route 112\n",
      "Route 113\n",
      "Route 114\n",
      "Route 115\n",
      "\n",
      "\n",
      "Route 116\n",
      "Route 117\n",
      "Route 118\n",
      "Route 119\n",
      "Route 120\n",
      "Route 121\n",
      "Route 122\n",
      "Route 123\n",
      "Route 124\n",
      "Route 125\n",
      "Route 126\n",
      "Route 127\n",
      "Route 128\n",
      "Route 129\n",
      "Route 130\n",
      "\n",
      "\n",
      "Route 131\n",
      "Route 132\n",
      "Route 133\n",
      "Route 134\n",
      "Abandoned Ship\n",
      "Altering Cave\n",
      "Artisan Cave\n",
      "Battle Frontier\n",
      "Battle Resort\n",
      "Battle Tower\n",
      "Birth Island\n",
      "Cave of Origin\n",
      "Desert Underpass\n",
      "Dewford Town\n",
      "Ever Grande City\n",
      "\n",
      "\n",
      "Fallarbor Town\n",
      "Faraway Island\n",
      "Fiery Path\n",
      "Fortree City\n",
      "Granite Cave\n",
      "Jagged Pass\n",
      "Lavaridge Town\n",
      "Lilycove City\n",
      "Littleroot Town\n",
      "Marine Cave\n",
      "Mauville City\n",
      "Meteor Falls\n",
      "Mirage Island\n",
      "Mirage Spots\n",
      "Mirage Tower\n",
      "\n",
      "\n",
      "Mossdeep City\n",
      "Mt. Chimney\n",
      "Mt. Pyre\n",
      "New Mauville\n",
      "Oldale Town\n",
      "Pacifidlog Town\n",
      "Petalburg City\n",
      "Petalburg Woods\n",
      "Roaming Hoenn\n",
      "Rustboro City\n",
      "Rusturf Tunnel\n",
      "Safari Zone\n",
      "Scorched Slab\n",
      "Sea Mauville\n",
      "Seafloor Cavern\n",
      "\n",
      "\n",
      "Sealed Chamber\n",
      "Shoal Cave\n",
      "Sky Pillar\n",
      "Slateport City\n",
      "Sootopolis City\n",
      "Southern Island\n",
      "SS Tidal\n",
      "Team Magma/Aqua Hideout\n",
      "Terra Cave\n",
      "Trainer Hill\n",
      "Verdanturf Town\n",
      "Victory Road\n"
     ]
    }
   ],
   "source": [
    "locations = soup_loc.find(id = 'loc-hoenn').text.strip()\n",
    "print(locations)"
   ]
  },
  {
   "cell_type": "code",
   "execution_count": 67,
   "metadata": {
    "ExecuteTime": {
     "end_time": "2019-08-30T06:54:30.474540Z",
     "start_time": "2019-08-30T06:54:30.468921Z"
    },
    "hidden": true
   },
   "outputs": [],
   "source": [
    "locations = locations.lower().replace(' ', '')\n",
    "locations = locations.split(\"\\n\")"
   ]
  },
  {
   "cell_type": "code",
   "execution_count": 68,
   "metadata": {
    "ExecuteTime": {
     "end_time": "2019-08-30T06:54:33.161514Z",
     "start_time": "2019-08-30T06:54:33.155941Z"
    },
    "hidden": true
   },
   "outputs": [
    {
     "name": "stdout",
     "output_type": "stream",
     "text": [
      "['route101', 'route102', 'route103', 'route104', 'route105', 'route106', 'route107', 'route108', 'route109', 'route110', 'route111', 'route112', 'route113', 'route114', 'route115', 'route116', 'route117', 'route118', 'route119', 'route120', 'route121', 'route122', 'route123', 'route124', 'route125', 'route126', 'route127', 'route128', 'route129', 'route130', 'route131', 'route132', 'route133', 'route134', 'abandonedship', 'alteringcave', 'artisancave', 'battlefrontier', 'battleresort', 'battletower', 'birthisland', 'caveoforigin', 'desertunderpass', 'dewfordtown', 'evergrandecity', 'fallarbortown', 'farawayisland', 'fierypath', 'fortreecity', 'granitecave', 'jaggedpass', 'lavaridgetown', 'lilycovecity', 'littleroottown', 'marinecave', 'mauvillecity', 'meteorfalls', 'mirageisland', 'miragespots', 'miragetower', 'mossdeepcity', 'mt.chimney', 'mt.pyre', 'newmauville', 'oldaletown', 'pacifidlogtown', 'petalburgcity', 'petalburgwoods', 'roaminghoenn', 'rustborocity', 'rusturftunnel', 'safarizone', 'scorchedslab', 'seamauville', 'seafloorcavern', 'sealedchamber', 'shoalcave', 'skypillar', 'slateportcity', 'sootopoliscity', 'southernisland', 'sstidal', 'teammagma/aquahideout', 'terracave', 'trainerhill', 'verdanturftown', 'victoryroad']\n"
     ]
    }
   ],
   "source": [
    "locations = list(filter(None, locations))\n",
    "print(locations)"
   ]
  },
  {
   "cell_type": "code",
   "execution_count": 69,
   "metadata": {
    "ExecuteTime": {
     "end_time": "2019-08-30T06:56:14.060013Z",
     "start_time": "2019-08-30T06:56:14.051583Z"
    },
    "hidden": true
   },
   "outputs": [
    {
     "name": "stdout",
     "output_type": "stream",
     "text": [
      "['route102', 'route103', 'route104', 'route105', 'route106', 'route107', 'route108', 'route109', 'route111', 'route112', 'route113', 'route114', 'route115', 'route116', 'route117', 'route118', 'route120', 'route121', 'route122', 'route123', 'route124', 'route125', 'route126', 'route127', 'route128', 'route129', 'route130', 'route131', 'route132', 'route133', 'route134', 'abandonedship', 'caveoforigin', 'dewfordtown', 'evergrandecity', 'fierypath', 'granitecave', 'jaggedpass', 'lilycovecity', 'meteorfalls', 'mirageisland', 'mt.pyre', 'newmauville', 'pacifidlogtown', 'petalburgcity', 'petalburgwoods', 'rusturftunnel', 'safarizone', 'seafloorcavern', 'shoalcave', 'skypillar', 'slateportcity', 'sootopoliscity', 'victoryroad']\n"
     ]
    }
   ],
   "source": [
    "#delete locations with no encounters, postgame, or contain gift pokemon\n",
    "notneeded = ['battlefrontier', 'mt.chimney', 'oldaletown',\n",
    "             'fallarbortown', 'lavaridgetown', 'mauvillecity',\n",
    "             'sstidal', 'trainerhill', 'verdanturftown',\n",
    "             'birthisland', 'artisancave', 'roaminghoenn',\n",
    "             'terracave', 'marinecave', 'alteringcave',\n",
    "             'battleresort', 'battletower', 'farawayisland',\n",
    "             'southernisland', 'teammagma/aquahideout', 'desertunderpass',\n",
    "             'miragespots', 'scorchedslab', 'seamauville', 'sealedchamber',\n",
    "             'fortreecity', 'route101', 'route110', 'littleroottown',\n",
    "             'miragetower', 'mossdeepcity', 'lavaridgetown',\n",
    "             'route119', 'rustborocity']\n",
    "for location in notneeded:\n",
    "    while True:\n",
    "        try:\n",
    "            locations.remove(location)\n",
    "        except:\n",
    "            break\n",
    "print(locations)"
   ]
  },
  {
   "cell_type": "code",
   "execution_count": 13,
   "metadata": {
    "ExecuteTime": {
     "end_time": "2019-08-29T08:15:17.909104Z",
     "start_time": "2019-08-29T08:15:17.898270Z"
    },
    "hidden": true
   },
   "outputs": [],
   "source": [
    "#convert list to csv for convenience\n",
    "df = pd.DataFrame(locations)\n",
    "df.to_csv('locationlist.csv', index=False)"
   ]
  },
  {
   "cell_type": "markdown",
   "metadata": {},
   "source": [
    "# Pokemon List"
   ]
  },
  {
   "cell_type": "code",
   "execution_count": null,
   "metadata": {},
   "outputs": [],
   "source": [
    "url_pkmn = 'https://pokemondb.net/pokedex/game/ruby-sapphire-emerald'\n",
    "response_pkmn = requests.get(url_pkmn)\n",
    "soup_pkmn = BeautifulSoup(response_pkmn.content, \"html.parser\")"
   ]
  },
  {
   "cell_type": "code",
   "execution_count": 44,
   "metadata": {
    "ExecuteTime": {
     "end_time": "2019-08-28T22:24:13.481791Z",
     "start_time": "2019-08-28T22:24:13.457258Z"
    }
   },
   "outputs": [
    {
     "name": "stdout",
     "output_type": "stream",
     "text": [
      "['treecko', 'grovyle', 'sceptile', 'torchic', 'combusken', 'blaziken', 'mudkip', 'marshtomp', 'swampert', 'poochyena', 'mightyena', 'zigzagoon', 'linoone', 'wurmple', 'silcoon', 'beautifly', 'cascoon', 'dustox', 'lotad', 'lombre', 'ludicolo', 'seedot', 'nuzleaf', 'shiftry', 'taillow', 'swellow', 'wingull', 'pelipper', 'ralts', 'kirlia', 'gardevoir', 'surskit', 'masquerain', 'shroomish', 'breloom', 'slakoth', 'vigoroth', 'slaking', 'abra', 'kadabra', 'alakazam', 'nincada', 'ninjask', 'shedinja', 'whismur', 'loudred', 'exploud', 'makuhita', 'hariyama', 'goldeen', 'seaking', 'magikarp', 'gyarados', 'azurill', 'marill', 'azumarill', 'geodude', 'graveler', 'golem', 'nosepass', 'skitty', 'delcatty', 'zubat', 'golbat', 'crobat', 'tentacool', 'tentacruel', 'sableye', 'mawile', 'aron', 'lairon', 'aggron', 'machop', 'machoke', 'machamp', 'meditite', 'medicham', 'electrike', 'manectric', 'plusle', 'minun', 'magnemite', 'magneton', 'voltorb', 'electrode', 'volbeat', 'illumise', 'oddish', 'gloom', 'vileplume', 'bellossom', 'doduo', 'dodrio', 'roselia', 'gulpin', 'swalot', 'carvanha', 'sharpedo', 'wailmer', 'wailord', 'numel', 'camerupt', 'slugma', 'magcargo', 'torkoal', 'grimer', 'muk', 'koffing', 'weezing', 'spoink', 'grumpig', 'sandshrew', 'sandslash', 'spinda', 'skarmory', 'trapinch', 'vibrava', 'flygon', 'cacnea', 'cacturne', 'swablu', 'altaria', 'zangoose', 'seviper', 'lunatone', 'solrock', 'barboach', 'whiscash', 'corphish', 'crawdaunt', 'baltoy', 'claydol', 'lileep', 'cradily', 'anorith', 'armaldo', 'igglybuff', 'jigglypuff', 'wigglytuff', 'feebas', 'milotic', 'castform', 'staryu', 'starmie', 'kecleon', 'shuppet', 'banette', 'duskull', 'dusclops', 'tropius', 'chimecho', 'absol', 'vulpix', 'ninetales', 'pichu', 'pikachu', 'raichu', 'psyduck', 'golduck', 'wynaut', 'wobbuffet', 'natu', 'xatu', 'girafarig', 'phanpy', 'donphan', 'pinsir', 'heracross', 'rhyhorn', 'rhydon', 'snorunt', 'glalie', 'spheal', 'sealeo', 'walrein', 'clamperl', 'huntail', 'gorebyss', 'relicanth', 'corsola', 'chinchou', 'lanturn', 'luvdisc', 'horsea', 'seadra', 'kingdra', 'bagon', 'shelgon', 'salamence', 'beldum', 'metang', 'metagross', 'regirock', 'regice', 'registeel', 'latias', 'latios', 'kyogre', 'groudon', 'rayquaza', 'jirachi', 'deoxys']\n"
     ]
    }
   ],
   "source": [
    "#class a.ent-name in class span.infocard-lg-data text-muted in class div.infocard\n",
    "tags_pkmn = soup_pkmn.find_all('a', attrs = {'class' : 'ent-name'})\n",
    "pokemon = []\n",
    "for pkmn in tags_pkmn:\n",
    "    pokemon.append(pkmn.text.strip().lower())\n",
    "print(pokemon)"
   ]
  },
  {
   "cell_type": "code",
   "execution_count": 45,
   "metadata": {
    "ExecuteTime": {
     "end_time": "2019-08-28T22:26:17.497958Z",
     "start_time": "2019-08-28T22:26:17.490264Z"
    }
   },
   "outputs": [
    {
     "name": "stdout",
     "output_type": "stream",
     "text": [
      "['poochyena', 'mightyena', 'zigzagoon', 'linoone', 'wurmple', 'silcoon', 'beautifly', 'cascoon', 'dustox', 'lotad', 'lombre', 'ludicolo', 'seedot', 'nuzleaf', 'shiftry', 'taillow', 'swellow', 'wingull', 'pelipper', 'ralts', 'kirlia', 'gardevoir', 'shroomish', 'breloom', 'slakoth', 'vigoroth', 'slaking', 'abra', 'kadabra', 'alakazam', 'nincada', 'ninjask', 'shedinja', 'whismur', 'loudred', 'exploud', 'makuhita', 'hariyama', 'goldeen', 'seaking', 'magikarp', 'gyarados', 'azurill', 'marill', 'azumarill', 'geodude', 'graveler', 'golem', 'nosepass', 'skitty', 'delcatty', 'zubat', 'golbat', 'crobat', 'tentacool', 'tentacruel', 'sableye', 'mawile', 'aron', 'lairon', 'aggron', 'machop', 'machoke', 'machamp', 'electrike', 'manectric', 'plusle', 'minun', 'magnemite', 'magneton', 'voltorb', 'electrode', 'volbeat', 'illumise', 'oddish', 'gloom', 'vileplume', 'bellossom', 'doduo', 'dodrio', 'gulpin', 'swalot', 'carvanha', 'sharpedo', 'wailmer', 'wailord', 'numel', 'camerupt', 'slugma', 'magcargo', 'torkoal', 'grimer', 'muk', 'koffing', 'weezing', 'spoink', 'grumpig', 'sandshrew', 'sandslash', 'spinda', 'skarmory', 'trapinch', 'vibrava', 'flygon', 'cacnea', 'cacturne', 'swablu', 'altaria', 'seviper', 'solrock', 'barboach', 'whiscash', 'corphish', 'crawdaunt', 'baltoy', 'claydol', 'lileep', 'cradily', 'anorith', 'armaldo', 'igglybuff', 'jigglypuff', 'wigglytuff', 'feebas', 'milotic', 'castform', 'staryu', 'starmie', 'kecleon', 'shuppet', 'banette', 'duskull', 'dusclops', 'tropius', 'chimecho', 'absol', 'vulpix', 'ninetales', 'pichu', 'pikachu', 'raichu', 'psyduck', 'golduck', 'wynaut', 'wobbuffet', 'natu', 'xatu', 'girafarig', 'phanpy', 'donphan', 'pinsir', 'heracross', 'rhyhorn', 'rhydon', 'snorunt', 'glalie', 'spheal', 'sealeo', 'walrein', 'clamperl', 'huntail', 'gorebyss', 'relicanth', 'corsola', 'chinchou', 'lanturn', 'luvdisc', 'horsea', 'seadra', 'kingdra', 'bagon', 'shelgon', 'salamence', 'beldum', 'metang', 'metagross', 'regirock', 'regice', 'registeel']\n"
     ]
    }
   ],
   "source": [
    "#delete postgame, starter or unavailable pokemon\n",
    "notneededpkmn = ['treecko', 'grovyle', 'sceptile',\n",
    "                 'torchic', 'combusken', 'blaziken',\n",
    "                 'mudkip', 'marshtomp', 'swampert',\n",
    "                 'surskit', 'masquerain', 'meditite',\n",
    "                 'medicham', 'roselia', 'zangoose',\n",
    "                 'lunatone', 'groudon', 'kyogre',\n",
    "                 'rayquaza', 'latios', 'latias',\n",
    "                 'jirachi', 'deoxys']\n",
    "\n",
    "pokemon2 = pokemon\n",
    "for pkmn in notneededpkmn:\n",
    "    while True:\n",
    "        try:\n",
    "            pokemon2.remove(pkmn)\n",
    "        except:\n",
    "            break\n",
    "print(pokemon2)"
   ]
  },
  {
   "cell_type": "code",
   "execution_count": 46,
   "metadata": {
    "ExecuteTime": {
     "end_time": "2019-08-28T22:28:14.723943Z",
     "start_time": "2019-08-28T22:28:03.081704Z"
    }
   },
   "outputs": [],
   "source": [
    "#convert to csv\n",
    "df = pd.DataFrame(pokemon2)\n",
    "df.to_csv('pokemonlist.csv', index=False)"
   ]
  },
  {
   "cell_type": "code",
   "execution_count": 3,
   "metadata": {
    "ExecuteTime": {
     "end_time": "2019-08-29T03:06:39.547695Z",
     "start_time": "2019-08-29T03:06:39.537711Z"
    }
   },
   "outputs": [
    {
     "name": "stdout",
     "output_type": "stream",
     "text": [
      "117\n",
      "['poochyena', 'mightyena', 'zigzagoon', 'linoone', 'wurmple', 'silcoon', 'cascoon', 'lotad', 'lombre', 'seedot', 'nuzleaf', 'taillow', 'swellow', 'wingull', 'pelipper', 'ralts', 'shroomish', 'slakoth', 'abra', 'nincada', 'whismur', 'loudred', 'makuhita', 'hariyama', 'goldeen', 'seaking', 'magikarp', 'gyarados', 'marill', 'geodude', 'graveler', 'nosepass', 'skitty', 'zubat', 'golbat', 'tentacool', 'tentacruel', 'sableye', 'mawile', 'aron', 'lairon', 'machop', 'electrike', 'manectric', 'plusle', 'minun', 'magnemite', 'magneton', 'voltorb', 'electrode', 'volbeat', 'illumise', 'oddish', 'gloom', 'doduo', 'dodrio', 'gulpin', 'carvanha', 'sharpedo', 'wailmer', 'wailord', 'numel', 'slugma', 'torkoal', 'grimer', 'koffing', 'spoink', 'sandshrew', 'spinda', 'skarmory', 'trapinch', 'cacnea', 'swablu', 'altaria', 'seviper', 'solrock', 'barboach', 'whiscash', 'corphish', 'baltoy', 'claydol', 'jigglypuff', 'feebas', 'staryu', 'kecleon', 'shuppet', 'banette', 'duskull', 'tropius', 'chimecho', 'absol', 'vulpix', 'pikachu', 'psyduck', 'golduck', 'wynaut', 'wobbuffet', 'natu', 'xatu', 'girafarig', 'phanpy', 'pinsir', 'heracross', 'rhyhorn', 'snorunt', 'spheal', 'clamperl', 'relicanth', 'corsola', 'chinchou', 'lanturn', 'luvdisc', 'horsea', 'bagon', 'regirock', 'regice', 'registeel']\n"
     ]
    }
   ],
   "source": [
    "#further cuts to the list after making the first csv \n",
    "#pokemon only available by evolution, breeding or gift\n",
    "#and irrelevant to a wild encounter table\n",
    "evolved = ['beautifly', 'dustox', 'ludicolo',\n",
    "           'shiftry', 'kirlia', 'gardevoir',\n",
    "           'breloom', 'vigoroth', 'slaking',\n",
    "           'ninjask', 'shedinja', 'exploud',\n",
    "           'azurill', 'delcatty', 'aggron',\n",
    "           'swalot', 'camerupt', 'grumpig',\n",
    "           'vibrava', 'flygon', 'cacturne',\n",
    "           'crawdaunt', 'cradily', 'armaldo',\n",
    "           'milotic', 'castform', 'dusclops',\n",
    "           'glalie', 'sealeo', 'walrein',\n",
    "           'huntail', 'gorebyss', 'shelgon',\n",
    "           'salamence', 'lileep', 'anorith',\n",
    "           'beldum', 'metang', 'metagross',\n",
    "           'raichu', 'sandslash', 'ninetales',\n",
    "           'wigglytuff', 'vileplume', 'persian',\n",
    "           'kadabra', 'alakazam', 'machoke',\n",
    "           'machamp', 'golem', 'muk', 'weezing',\n",
    "           'rhydon', 'seadra', 'starmie', 'crobat',\n",
    "           'pichu', 'igglybuff', 'bellossom',\n",
    "           'azumarill', 'magcargo', 'kingdra',\n",
    "           'donphan']\n",
    "pokemon2 = pokemon\n",
    "for pkmn in evolved:\n",
    "    while True:\n",
    "        try:\n",
    "            pokemon2.remove(pkmn)\n",
    "        except:\n",
    "            break\n",
    "print(len(pokemon2))\n",
    "print(pokemon2)"
   ]
  },
  {
   "cell_type": "code",
   "execution_count": 4,
   "metadata": {
    "ExecuteTime": {
     "end_time": "2019-08-29T03:08:13.768180Z",
     "start_time": "2019-08-29T03:08:13.743204Z"
    }
   },
   "outputs": [],
   "source": [
    "df = pd.DataFrame(pokemon2)\n",
    "df.to_csv('pokemonlist.csv', index=False)"
   ]
  },
  {
   "cell_type": "code",
   "execution_count": 12,
   "metadata": {
    "ExecuteTime": {
     "end_time": "2019-08-29T04:48:10.076896Z",
     "start_time": "2019-08-29T04:48:09.914883Z"
    }
   },
   "outputs": [],
   "source": [
    "#table for connecting tables that use id to tables that use name\n",
    "\n",
    "cursor.execute('CREATE TABLE POKEMON \\\n",
    "                  (PKID INT NOT NULL, \\\n",
    "                   NAME TEXT NOT NULL);')\n",
    "conn.commit()"
   ]
  },
  {
   "cell_type": "code",
   "execution_count": 13,
   "metadata": {
    "ExecuteTime": {
     "end_time": "2019-08-29T04:48:13.573765Z",
     "start_time": "2019-08-29T04:48:13.367176Z"
    }
   },
   "outputs": [],
   "source": [
    "#ids are 0-116 in order of list\n",
    "for n in range(len(pokemon)):\n",
    "     cursor.execute(\"INSERT INTO POKEMON (PKID, NAME) \\\n",
    "                     VALUES(\" +str(n) +\",'\" +str(pokemon[n]) +\"');\")\n",
    "conn.commit()"
   ]
  },
  {
   "cell_type": "code",
   "execution_count": 11,
   "metadata": {
    "ExecuteTime": {
     "end_time": "2019-08-29T04:48:05.296240Z",
     "start_time": "2019-08-29T04:48:05.089571Z"
    }
   },
   "outputs": [],
   "source": [
    "#drop table if needed for debug\n",
    "cursor.execute(\"DROP TABLE POKEMON\");\n",
    "conn.commit()"
   ]
  },
  {
   "cell_type": "code",
   "execution_count": 94,
   "metadata": {
    "ExecuteTime": {
     "end_time": "2019-08-30T08:34:19.497270Z",
     "start_time": "2019-08-30T08:34:19.489620Z"
    }
   },
   "outputs": [
    {
     "name": "stdout",
     "output_type": "stream",
     "text": [
      "['aipom', 'teddiursa', 'ledyba', 'sunkern', 'hoothoot', 'pineco', 'houndour', 'miltank', 'shuckle', 'mareep', 'spinarak', 'gligar', 'snubbull', 'stantler', 'wooper', 'quagsire', 'remoraid', 'octillery', 'rayquaza']\n"
     ]
    }
   ],
   "source": [
    "#filter out nat dex pokemon that happened to be scraped in the encounter tables\n",
    "cursor.execute(\"SELECT DISTINCT NAME FROM WILDS;\")\n",
    "wilds_pkmn = cursor.fetchall()\n",
    "wilds_list = []\n",
    "for tuple_list in wilds_pkmn:\n",
    "    wilds_list.append(tuple_list[0])\n",
    "\n",
    "for mon in pokemon:\n",
    "    if mon in wilds_list:\n",
    "        wilds_list.remove(mon)\n",
    "        \n",
    "print(wilds_list)"
   ]
  },
  {
   "cell_type": "code",
   "execution_count": 96,
   "metadata": {
    "ExecuteTime": {
     "end_time": "2019-08-30T08:40:49.170682Z",
     "start_time": "2019-08-30T08:40:48.900917Z"
    }
   },
   "outputs": [],
   "source": [
    "for mon in wilds_list:\n",
    "    cursor.execute(\"DELETE FROM WILDS WHERE NAME == '\"+str(mon)+\"';\")\n",
    "conn.commit()"
   ]
  },
  {
   "cell_type": "markdown",
   "metadata": {
    "heading_collapsed": true
   },
   "source": [
    "# Learnset Table"
   ]
  },
  {
   "cell_type": "code",
   "execution_count": 7,
   "metadata": {
    "ExecuteTime": {
     "end_time": "2019-08-29T03:11:10.893387Z",
     "start_time": "2019-08-29T03:11:10.647262Z"
    },
    "hidden": true
   },
   "outputs": [
    {
     "name": "stdout",
     "output_type": "stream",
     "text": [
      "['astonish', 'growl', 'absorb', 'nature power', 'mist', 'rain dance', 'mega drain']\n",
      "[1, 3, 7, 13, 21, 31, 43]\n"
     ]
    }
   ],
   "source": [
    "#one learnset scrape\n",
    "\n",
    "#make soup given pkmn name\n",
    "pkmn = 'lotad'\n",
    "url = 'https://pokemondb.net/pokedex/' + str(pkmn) + '/moves/3'\n",
    "response = requests.get(url)\n",
    "soup = BeautifulSoup(response.content, \"html.parser\")\n",
    "\n",
    "#name of moves\n",
    "#the soup needs to find all a tags of 'ent-name' class\n",
    "#WITHIN the first instance of tbody tag\n",
    "table = soup.find('tbody')\n",
    "tags_moves = table.find_all('a', attrs = {'class' : 'ent-name'})\n",
    "moves = []\n",
    "for move in tags_moves:\n",
    "    moves.append(move.text.strip().lower())\n",
    "print(moves)\n",
    "\n",
    "#we also need the cooresponding levels\n",
    "#first instance of td tag of class 'cell-num', for all tr tags\n",
    "tags_cells = table.find_all('tr')\n",
    "tags_levels = []\n",
    "for cell in tags_cells:\n",
    "    level = cell.find('td', attrs = {'class' : 'cell-num'})\n",
    "    tags_levels.append(level)\n",
    "levels = []\n",
    "for level in tags_levels:\n",
    "    levels.append(int(level.text.strip()))\n",
    "print(levels)"
   ]
  },
  {
   "cell_type": "code",
   "execution_count": 8,
   "metadata": {
    "ExecuteTime": {
     "end_time": "2019-08-29T03:13:12.908014Z",
     "start_time": "2019-08-29T03:13:12.892766Z"
    },
    "hidden": true
   },
   "outputs": [
    {
     "data": {
      "text/plain": [
       "True"
      ]
     },
     "execution_count": 8,
     "metadata": {},
     "output_type": "execute_result"
    }
   ],
   "source": [
    "#must be true to continue\n",
    "len(moves) == len(levels)"
   ]
  },
  {
   "cell_type": "code",
   "execution_count": 14,
   "metadata": {
    "ExecuteTime": {
     "end_time": "2019-08-29T03:16:49.152105Z",
     "start_time": "2019-08-29T03:16:48.790934Z"
    },
    "hidden": true
   },
   "outputs": [],
   "source": [
    "#conversion of moves and levels into a sqlite table\n",
    "\n",
    "cursor.execute('CREATE TABLE pkmn_'+ str(pkmn) +' \\\n",
    "                  (MOVE TEXT NOT NULL, \\\n",
    "                   LV INT NOT NULL);')\n",
    "                   \n",
    "for i in range(len(moves)):\n",
    "    cursor.execute(\"INSERT INTO pkmn_\"+ str(pkmn) +\" (MOVE, LV) \\\n",
    "                    VALUES('\"+str(moves[i]) +\"',\" + str(levels[i]) +\")\")\n",
    "conn.commit()\n"
   ]
  },
  {
   "cell_type": "code",
   "execution_count": 15,
   "metadata": {
    "ExecuteTime": {
     "end_time": "2019-08-29T03:16:55.184872Z",
     "start_time": "2019-08-29T03:16:55.177145Z"
    },
    "hidden": true
   },
   "outputs": [
    {
     "name": "stdout",
     "output_type": "stream",
     "text": [
      "astonish\n",
      "1\n",
      "growl\n",
      "3\n",
      "absorb\n",
      "7\n",
      "nature power\n",
      "13\n",
      "mist\n",
      "21\n",
      "rain dance\n",
      "31\n",
      "mega drain\n",
      "43\n"
     ]
    }
   ],
   "source": [
    "#verification that the table is correct\n",
    "\n",
    "for row in cursor.execute(\"SELECT MOVE, LV FROM pkmn_lotad\"):\n",
    "    print(row[0])\n",
    "    print(row[1])\n"
   ]
  },
  {
   "cell_type": "code",
   "execution_count": 16,
   "metadata": {
    "ExecuteTime": {
     "end_time": "2019-08-29T03:17:08.560338Z",
     "start_time": "2019-08-29T03:17:08.411299Z"
    },
    "hidden": true
   },
   "outputs": [],
   "source": [
    "#drop pkmn_lotad so it doesn't interfere with the loop\n",
    "cursor.execute('DROP TABLE pkmn_lotad');\n",
    "conn.commit()\n"
   ]
  },
  {
   "cell_type": "code",
   "execution_count": 2,
   "metadata": {
    "ExecuteTime": {
     "end_time": "2019-08-29T03:34:42.081298Z",
     "start_time": "2019-08-29T03:33:03.373166Z"
    },
    "hidden": true
   },
   "outputs": [],
   "source": [
    "#and now the loop of all the above\n",
    "\n",
    "for pkmn in pokemon:\n",
    "\n",
    "    #soup\n",
    "    url = 'https://pokemondb.net/pokedex/' + str(pkmn) + '/moves/3'\n",
    "    response = requests.get(url)\n",
    "    soup = BeautifulSoup(response.content, \"html.parser\")\n",
    "    \n",
    "    #list of moves\n",
    "    table = soup.find('tbody')\n",
    "    tags_moves = table.find_all('a', attrs = {'class' : 'ent-name'})\n",
    "    moves = []\n",
    "    for move in tags_moves:\n",
    "        moves.append(move.text.strip().lower())\n",
    "    \n",
    "    #list of move levels\n",
    "    tags_cells = table.find_all('tr')\n",
    "    tags_levels = []\n",
    "    for cell in tags_cells:\n",
    "        level = cell.find('td', attrs = {'class' : 'cell-num'})\n",
    "        tags_levels.append(level)\n",
    "    levels = []\n",
    "    for level in tags_levels:\n",
    "        levels.append(int(level.text.strip()))\n",
    "    \n",
    "    #create and populate table\n",
    "    cursor.execute('CREATE TABLE pkmn_'+ str(pkmn) +' \\\n",
    "                  (MOVE TEXT NOT NULL, \\\n",
    "                   LV INT NOT NULL);')               \n",
    "    for i in range(len(moves)):\n",
    "        cursor.execute(\"INSERT INTO pkmn_\"+ str(pkmn) +\" (MOVE, LV) \\\n",
    "                        VALUES('\"+str(moves[i]) +\"',\" + str(levels[i]) +\")\")\n",
    "    conn.commit()\n",
    "    "
   ]
  },
  {
   "cell_type": "code",
   "execution_count": 18,
   "metadata": {
    "ExecuteTime": {
     "end_time": "2019-08-29T03:27:35.440292Z",
     "start_time": "2019-08-29T03:27:34.063542Z"
    },
    "hidden": true
   },
   "outputs": [
    {
     "ename": "OperationalError",
     "evalue": "no such table: pkmn_lotad",
     "output_type": "error",
     "traceback": [
      "\u001b[0;31m---------------------------------------------------------------------------\u001b[0m",
      "\u001b[0;31mOperationalError\u001b[0m                          Traceback (most recent call last)",
      "\u001b[0;32m<ipython-input-18-eb8b7860179d>\u001b[0m in \u001b[0;36m<module>\u001b[0;34m\u001b[0m\n\u001b[1;32m      1\u001b[0m \u001b[0;31m#loop for resetting db\u001b[0m\u001b[0;34m\u001b[0m\u001b[0;34m\u001b[0m\u001b[0;34m\u001b[0m\u001b[0m\n\u001b[1;32m      2\u001b[0m \u001b[0;32mfor\u001b[0m \u001b[0mpkmn\u001b[0m \u001b[0;32min\u001b[0m \u001b[0mpokemon\u001b[0m\u001b[0;34m:\u001b[0m\u001b[0;34m\u001b[0m\u001b[0;34m\u001b[0m\u001b[0m\n\u001b[0;32m----> 3\u001b[0;31m     \u001b[0mcursor\u001b[0m\u001b[0;34m.\u001b[0m\u001b[0mexecute\u001b[0m\u001b[0;34m(\u001b[0m\u001b[0;34m'DROP TABLE pkmn_'\u001b[0m\u001b[0;34m+\u001b[0m\u001b[0mstr\u001b[0m\u001b[0;34m(\u001b[0m\u001b[0mpkmn\u001b[0m\u001b[0;34m)\u001b[0m\u001b[0;34m)\u001b[0m\u001b[0;34m;\u001b[0m\u001b[0;34m\u001b[0m\u001b[0;34m\u001b[0m\u001b[0m\n\u001b[0m\u001b[1;32m      4\u001b[0m \u001b[0mconn\u001b[0m\u001b[0;34m.\u001b[0m\u001b[0mcommit\u001b[0m\u001b[0;34m(\u001b[0m\u001b[0;34m)\u001b[0m\u001b[0;34m\u001b[0m\u001b[0;34m\u001b[0m\u001b[0m\n",
      "\u001b[0;31mOperationalError\u001b[0m: no such table: pkmn_lotad"
     ]
    }
   ],
   "source": [
    "#loop for resetting db if needed\n",
    "for pkmn in pokemon:\n",
    "    cursor.execute('DROP TABLE pkmn_'+str(pkmn));\n",
    "conn.commit()"
   ]
  },
  {
   "cell_type": "code",
   "execution_count": 5,
   "metadata": {
    "ExecuteTime": {
     "end_time": "2019-08-29T04:08:35.353251Z",
     "start_time": "2019-08-29T04:08:35.098824Z"
    },
    "hidden": true
   },
   "outputs": [],
   "source": [
    "#in which I realize all of the above was idiotic when I could be populating one table with one-to-many ids\n",
    "#this new table has a connection to the db 'Emerald_Encounters'\n",
    "\n",
    "cursor.execute('CREATE TABLE LEARNSETS \\\n",
    "                  (PKID INT NOT NULL, \\\n",
    "                   MOVE TEXT NOT NULL, \\\n",
    "                   LV INT NOT NULL);')\n",
    "conn.commit()"
   ]
  },
  {
   "cell_type": "code",
   "execution_count": 6,
   "metadata": {
    "ExecuteTime": {
     "end_time": "2019-08-29T04:20:48.412001Z",
     "start_time": "2019-08-29T04:19:48.380583Z"
    },
    "hidden": true
   },
   "outputs": [],
   "source": [
    "for n in range(len(pokemon)):\n",
    "\n",
    "    #soup\n",
    "    url = 'https://pokemondb.net/pokedex/' + str(pokemon[n]) + '/moves/3'\n",
    "    response = requests.get(url)\n",
    "    soup = BeautifulSoup(response.content, \"html.parser\")\n",
    "    \n",
    "    #list of moves\n",
    "    table = soup.find('tbody')\n",
    "    tags_moves = table.find_all('a', attrs = {'class' : 'ent-name'})\n",
    "    moves = []\n",
    "    for move in tags_moves:\n",
    "        moves.append(move.text.strip().lower())\n",
    "    \n",
    "    #list of move levels\n",
    "    tags_cells = table.find_all('tr')\n",
    "    tags_levels = []\n",
    "    for cell in tags_cells:\n",
    "        level = cell.find('td', attrs = {'class' : 'cell-num'})\n",
    "        tags_levels.append(level)\n",
    "    levels = []\n",
    "    for level in tags_levels:\n",
    "        levels.append(int(level.text.strip()))\n",
    "    \n",
    "    #populate table              \n",
    "    for i in range(len(moves)):\n",
    "        cursor.execute(\"INSERT INTO LEARNSETS (PKID, MOVE, LV) \\\n",
    "                        VALUES(\"+str(n)+\",'\"+str(moves[i]) +\"',\" \\\n",
    "                                + str(levels[i]) +\")\")\n",
    "    conn.commit()\n",
    "    "
   ]
  },
  {
   "cell_type": "markdown",
   "metadata": {
    "heading_collapsed": true
   },
   "source": [
    "# Encounter Table (LOCATION, NAME, LV)"
   ]
  },
  {
   "cell_type": "code",
   "execution_count": 52,
   "metadata": {
    "ExecuteTime": {
     "end_time": "2019-08-29T07:43:49.024393Z",
     "start_time": "2019-08-29T07:43:47.775114Z"
    },
    "hidden": true
   },
   "outputs": [
    {
     "name": "stdout",
     "output_type": "stream",
     "text": [
      "['wurmple', 'poochyena', 'lotad', 'zigzagoon', 'ralts', 'seedot', 'marill', 'goldeen', 'magikarp', 'goldeen', 'magikarp', 'goldeen', 'corphish', 'corphish']\n",
      "[3, 4, 3, 4, 3, 4, 3, 4, 4, 4, 3, 3, 5, 35, 20, 30, 5, 10, 5, 10, 10, 30, 10, 30, 10, 30, 20, 45]\n",
      "[4, 4, 4, 4, 4, 3, 35, 30, 10, 10, 30, 30, 30, 45]\n"
     ]
    }
   ],
   "source": [
    "#one location scrape\n",
    "\n",
    "#soup\n",
    "loc = 'route102'\n",
    "url =  'https://www.serebii.net/pokearth/hoenn/3rd/' + str(loc) + '.shtml'\n",
    "response = requests.get(url)\n",
    "soup = BeautifulSoup(response.content, \"html.parser\")\n",
    "\n",
    "#name of pokemon\n",
    "#tag table class 'dextable' --> tag td class 'name'\n",
    "#unfortunately, by finding all dextable instances, encounters are not organized by method\n",
    "#the site formatting didn't allow for automated method classification\n",
    "\n",
    "tables = soup.find_all('table', attrs = {'class' : 'dextable'})\n",
    "encounters = []\n",
    "for table in tables:\n",
    "    tags_encounters = table.find_all('td', attrs = {'class' : 'name'})\n",
    "    for name in tags_encounters:\n",
    "        encounters.append(name.text.strip().lower())\n",
    "print(encounters)\n",
    "\n",
    "#max level\n",
    "#tag table class 'dextable' --> tag td class 'level'\n",
    "encounter_levels = []\n",
    "for table in tables:\n",
    "    tags_levels = table.find_all('td', attrs = {'class' : 'level'})\n",
    "    for level in tags_levels:\n",
    "        encounter_levels.append(int(level.text.strip()))\n",
    "print(encounter_levels)\n",
    "\n",
    "#there is no distinction between max and min level\n",
    "#will have to remove even number tags (as count starts at 0)\n",
    "max_levels = []\n",
    "for i in range(len(encounter_levels)):\n",
    "    if encounter_levels[i] == 0:\n",
    "        continue\n",
    "    if i % 2 != 0:\n",
    "        max_levels.append(encounter_levels[i])\n",
    "    else:\n",
    "        continue\n",
    "print(max_levels)\n"
   ]
  },
  {
   "cell_type": "code",
   "execution_count": 30,
   "metadata": {
    "ExecuteTime": {
     "end_time": "2019-08-29T06:01:27.422955Z",
     "start_time": "2019-08-29T06:01:27.416047Z"
    },
    "hidden": true
   },
   "outputs": [
    {
     "data": {
      "text/plain": [
       "True"
      ]
     },
     "execution_count": 30,
     "metadata": {},
     "output_type": "execute_result"
    }
   ],
   "source": [
    "len(max_levels) == len(encounters)"
   ]
  },
  {
   "cell_type": "code",
   "execution_count": 71,
   "metadata": {
    "ExecuteTime": {
     "end_time": "2019-08-30T06:57:17.971118Z",
     "start_time": "2019-08-30T06:57:17.829251Z"
    },
    "hidden": true
   },
   "outputs": [],
   "source": [
    "cursor.execute('CREATE TABLE WILDS \\\n",
    "                  (LOCATION TEXT NOT NULL, \\\n",
    "                   ENCOUNTER_ID INT NOT NULL, \\\n",
    "                   NAME TEXT NOT NULL, \\\n",
    "                   LV INT NOT NULL, \\\n",
    "                   MOVE1 TEXT, \\\n",
    "                   MOVE2 TEXT, \\\n",
    "                   MOVE3 TEXT, \\\n",
    "                   MOVE4 TEXT);')\n",
    "conn.commit()"
   ]
  },
  {
   "cell_type": "code",
   "execution_count": 70,
   "metadata": {
    "ExecuteTime": {
     "end_time": "2019-08-30T06:57:11.025253Z",
     "start_time": "2019-08-30T06:57:10.890676Z"
    },
    "hidden": true
   },
   "outputs": [],
   "source": [
    "#drop wilds table if needed\n",
    "cursor.execute(\"DROP TABLE WILDS\");\n",
    "conn.commit()\n"
   ]
  },
  {
   "cell_type": "code",
   "execution_count": 72,
   "metadata": {
    "ExecuteTime": {
     "end_time": "2019-08-30T06:59:30.118883Z",
     "start_time": "2019-08-30T06:57:27.891912Z"
    },
    "hidden": true,
    "scrolled": true
   },
   "outputs": [],
   "source": [
    "for n in range(len(locations)):\n",
    "    url =  'https://www.serebii.net/pokearth/hoenn/3rd/' + str(locations[n]) + '.shtml'\n",
    "    response = requests.get(url)\n",
    "    soup = BeautifulSoup(response.content, \"html.parser\")\n",
    "\n",
    "    tables = soup.find_all('table', attrs = {'class' : 'dextable'})\n",
    "    encounters = []\n",
    "    for table in tables:\n",
    "        tags_encounters = table.find_all('td', attrs = {'class' : 'name'})\n",
    "        for name in tags_encounters:\n",
    "            encounters.append(name.text.strip().lower())\n",
    "\n",
    "    encounter_levels = []\n",
    "    for table in tables:\n",
    "        tags_levels = table.find_all('td', attrs = {'class' : 'level'})\n",
    "        for level in tags_levels:\n",
    "            encounter_levels.append(int(level.text.strip()))\n",
    "\n",
    "    max_levels = []\n",
    "    for i in range(len(encounter_levels)):\n",
    "        if encounter_levels[i] == 0:\n",
    "            continue\n",
    "        if i % 2 != 0:\n",
    "            max_levels.append(encounter_levels[i])\n",
    "        else:\n",
    "            continue\n",
    "            \n",
    "    #populating table\n",
    "    for x in range(len(encounters)):\n",
    "        cursor.execute(\"INSERT INTO WILDS (LOCATION, ENCOUNTER_ID, NAME, LV) \\\n",
    "                        VALUES('\"+str(locations[n])+\"',\" \\\n",
    "                                 +str(x)+\",'\" \\\n",
    "                                 +str(encounters[x])+\"',\" \\\n",
    "                                 +str(max_levels[x])+\")\");\n",
    "    conn.commit()\n"
   ]
  },
  {
   "cell_type": "code",
   "execution_count": 74,
   "metadata": {
    "ExecuteTime": {
     "end_time": "2019-08-30T07:15:26.478108Z",
     "start_time": "2019-08-30T07:15:20.910770Z"
    },
    "hidden": true
   },
   "outputs": [],
   "source": [
    "#manually restoring the data that couldn't be automated\n",
    "          \n",
    "route101 = [['route101', 'wurmple', 3],\n",
    "            ['route101', 'poochyena', 3],\n",
    "            ['route101', 'zigzagoon', 3]]\n",
    "\n",
    "route110 = [['route110', 'electrike', 13],\n",
    "            ['route110', 'poochyena', 12],\n",
    "            ['route110', 'minun', 13],\n",
    "            ['route110', 'gulpin', 13],\n",
    "            ['route110', 'oddish', 13],\n",
    "            ['route110', 'wingull', 12],\n",
    "            ['route110', 'plusle', 13],\n",
    "            ['route110', 'tentacool', 35],\n",
    "            ['route110', 'wingull', 30],\n",
    "            ['route110', 'pelipper', 30],\n",
    "            ['route110', 'magikarp', 10],\n",
    "            ['route110', 'tentacool', 10],\n",
    "            ['route110', 'magikarp', 30],\n",
    "            ['route110', 'tentacool', 30],\n",
    "            ['route110', 'wailmer', 30],\n",
    "            ['route110', 'wailmer', 45]]\n",
    "            \n",
    "route119 = [['route119', 'oddish', 27],\n",
    "            ['route119', 'zigzagoon', 27],\n",
    "            ['route119', 'linoone', 27],\n",
    "            ['route119', 'tropius', 27],\n",
    "            ['route119', 'kecleon', 25],\n",
    "            ['route119', 'tentacool', 35],\n",
    "            ['route119', 'wingull', 30],\n",
    "            ['route119', 'pelipper', 30],\n",
    "            ['route119', 'magikarp', 10],\n",
    "            ['route119', 'goldeen', 10],\n",
    "            ['route119', 'magikarp', 30],\n",
    "            ['route119', 'tentacool', 30],\n",
    "            ['route119', 'carvanha', 30],\n",
    "            ['route119', 'feebas', 35],\n",
    "            ['route119', 'carvanha', 45]]\n",
    "            \n",
    "miragetower = [['miragetower', 'sandshrew', 24],\n",
    "               ['miragetower', 'trapinch', 24]]\n",
    "               \n",
    "mossdeepcity = [['mossdeepcity', 'tentacool', 35],\n",
    "                ['mossdeepcity', 'wingull', 30],\n",
    "                ['mossdeepcity', 'pelipper', 30],\n",
    "                ['mossdeepcity', 'magikarp', 10],\n",
    "                ['mossdeepcity', 'tentacool', 10],\n",
    "                ['mossdeepcity', 'magikarp', 30],\n",
    "                ['mossdeepcity', 'tentacool', 30],\n",
    "                ['mossdeepcity', 'wailmer', 30],\n",
    "                ['mossdeepcity', 'wailmer', 45],\n",
    "                ['mossdeepcity', 'sharpedo', 35]]\n",
    "\n",
    "errors = [route101, route110, route119, miragetower, mossdeepcity]\n",
    "\n",
    "for location in errors:\n",
    "    for x in range(len(location)):\n",
    "        cursor.execute(\"INSERT INTO WILDS (LOCATION, ENCOUNTER_ID, NAME, LV) \\\n",
    "                        VALUES('\"+str(location[x][0])+\"',\" \\\n",
    "                                 +str(x)+\",'\" \\\n",
    "                                 +str(location[x][1])+\"',\" \\\n",
    "                                 +str(location[x][2])+\")\");\n",
    "        conn.commit()\n"
   ]
  },
  {
   "cell_type": "code",
   "execution_count": 75,
   "metadata": {
    "ExecuteTime": {
     "end_time": "2019-08-30T07:17:18.242293Z",
     "start_time": "2019-08-30T07:17:18.232239Z"
    },
    "hidden": true
   },
   "outputs": [],
   "source": [
    "#adding the used locations back in list\n",
    "errors = ['route101', 'route110', 'route119', 'miragetower', 'mossdeepcity']\n",
    "for loc in errors:\n",
    "    locations.append(loc)\n",
    "df = pd.DataFrame(locations)\n",
    "df.to_csv('locationlist.csv', index=False)"
   ]
  },
  {
   "cell_type": "markdown",
   "metadata": {},
   "source": [
    "# Encounter Table (MOVE1 - MOVE4)"
   ]
  },
  {
   "cell_type": "code",
   "execution_count": 76,
   "metadata": {
    "ExecuteTime": {
     "end_time": "2019-08-30T07:17:31.200210Z",
     "start_time": "2019-08-30T07:17:31.194412Z"
    }
   },
   "outputs": [
    {
     "data": {
      "text/plain": [
       "59"
      ]
     },
     "execution_count": 76,
     "metadata": {},
     "output_type": "execute_result"
    }
   ],
   "source": [
    "len(locations)"
   ]
  },
  {
   "cell_type": "code",
   "execution_count": 77,
   "metadata": {
    "ExecuteTime": {
     "end_time": "2019-08-30T07:22:26.844930Z",
     "start_time": "2019-08-30T07:22:26.824049Z"
    }
   },
   "outputs": [
    {
     "name": "stdout",
     "output_type": "stream",
     "text": [
      "['wrap', 'bubble beam', 'acid', 'constrict']\n",
      "wrap\n"
     ]
    },
    {
     "data": {
      "text/plain": [
       "<sqlite3.Cursor at 0x7fa48859cdc0>"
      ]
     },
     "execution_count": 77,
     "metadata": {},
     "output_type": "execute_result"
    }
   ],
   "source": [
    "#retrieving the moveset of one pokemon\n",
    "#intended result : ['wrap', 'bubble beam', 'acid', 'constrict']\n",
    "pkmn = 'tentacool'\n",
    "LV = 35\n",
    "LOCATION = 'mossdeepcity'\n",
    "ENCOUNTER_ID = 0\n",
    "\n",
    "cursor.execute(\"SELECT PKID FROM POKEMON \\\n",
    "                WHERE NAME =='\"+str(pkmn)+\"';\")\n",
    "PKID = cursor.fetchall()[0][0]\n",
    "cursor.execute(\"SELECT MOVE FROM LEARNSETS \\\n",
    "                        WHERE PKID == \"+str(PKID)+\" \\\n",
    "                        AND LV <= \"+str(LV)+\" \\\n",
    "                        ORDER BY LV DESC LIMIT 4;\")\n",
    "moveset = cursor.fetchall()\n",
    "#converting moveset to a list\n",
    "moveset_as_list = []\n",
    "for tuple_list in moveset:\n",
    "    moveset_as_list.append(tuple_list[0])\n",
    "    \n",
    "print(moveset_as_list)\n",
    "\n",
    "#moveset_as_list = iterated value in moveset_list\n",
    "print(moveset_as_list[0])\n",
    "\n",
    "#updating the database with moveset\n",
    "cursor.execute(\"UPDATE WILDS \\\n",
    "                SET MOVE1 = '\"+str(moveset_as_list[0])+\"', \\\n",
    "                    MOVE2 = '\"+str(moveset_as_list[1])+\"', \\\n",
    "                    MOVE3 = '\"+str(moveset_as_list[2])+\"', \\\n",
    "                    MOVE4 = '\"+str(moveset_as_list[3])+\"' \\\n",
    "                WHERE LOCATION == '\"+str(LOCATION)+\"' \\\n",
    "                      AND ENCOUNTER_ID == \"+str(ENCOUNTER_ID)+\";\")\n"
   ]
  },
  {
   "cell_type": "code",
   "execution_count": 83,
   "metadata": {
    "ExecuteTime": {
     "end_time": "2019-08-30T07:39:50.183808Z",
     "start_time": "2019-08-30T07:39:50.173681Z"
    }
   },
   "outputs": [
    {
     "name": "stdout",
     "output_type": "stream",
     "text": [
      "mossdeepcity 0 tentacool 35\n",
      "mossdeepcity 1 wingull 30\n",
      "mossdeepcity 2 pelipper 30\n",
      "mossdeepcity 3 magikarp 10\n",
      "mossdeepcity 4 tentacool 10\n",
      "mossdeepcity 5 magikarp 30\n",
      "mossdeepcity 6 tentacool 30\n",
      "mossdeepcity 7 wailmer 30\n",
      "mossdeepcity 8 wailmer 45\n",
      "mossdeepcity 9 sharpedo 35\n"
     ]
    }
   ],
   "source": [
    "#how encounters are iterated\n",
    "cursor.execute(\"SELECT * FROM WILDS WHERE LOCATION == 'mossdeepcity';\")\n",
    "encounters = cursor.fetchall()\n",
    "\n",
    "for mon in encounters:\n",
    "    LOCATION = mon[0]\n",
    "    ENCOUNTER_ID = mon[1]\n",
    "    NAME = mon[2]\n",
    "    LV = mon[3]\n",
    "    print(LOCATION, ENCOUNTER_ID, NAME, LV)"
   ]
  },
  {
   "cell_type": "code",
   "execution_count": 88,
   "metadata": {
    "ExecuteTime": {
     "end_time": "2019-08-30T08:02:02.020656Z",
     "start_time": "2019-08-30T08:02:01.110280Z"
    }
   },
   "outputs": [
    {
     "name": "stdout",
     "output_type": "stream",
     "text": [
      "[['wrap', 'bubble beam', 'acid', 'constrict'], ['mist', 'wing attack', 'supersonic', 'growl'], ['protect', 'mist', 'wing attack', 'supersonic'], ['splash'], ['supersonic', 'poison sting'], ['flail', 'tackle', 'splash'], ['wrap', 'bubble beam', 'acid', 'constrict'], ['water pulse', 'astonish', 'whirlpool', 'rollout'], ['water spout', 'rest', 'mist', 'water pulse'], ['slash', 'screech', 'crunch', 'scary face']]\n",
      "10\n",
      "[('mossdeepcity', 0, 'tentacool', 35, 'wrap', 'bubble beam', 'acid', 'constrict'), ('mossdeepcity', 1, 'wingull', 30, 'mist', 'wing attack', 'supersonic', 'growl'), ('mossdeepcity', 2, 'pelipper', 30, 'protect', 'mist', 'wing attack', 'supersonic'), ('mossdeepcity', 3, 'magikarp', 10, 'splash', None, None, None), ('mossdeepcity', 4, 'tentacool', 10, 'supersonic', 'poison sting', None, None), ('mossdeepcity', 5, 'magikarp', 30, 'flail', 'tackle', 'splash', None), ('mossdeepcity', 6, 'tentacool', 30, 'wrap', 'bubble beam', 'acid', 'constrict'), ('mossdeepcity', 7, 'wailmer', 30, 'water pulse', 'astonish', 'whirlpool', 'rollout'), ('mossdeepcity', 8, 'wailmer', 45, 'water spout', 'rest', 'mist', 'water pulse'), ('mossdeepcity', 9, 'sharpedo', 35, 'slash', 'screech', 'crunch', 'scary face')]\n"
     ]
    }
   ],
   "source": [
    "#retrieving moveset data for the pokemon of one location\n",
    "#intended len of moveset_list == 10\n",
    "\n",
    "cursor.execute(\"SELECT * FROM WILDS WHERE LOCATION == 'mossdeepcity';\")\n",
    "encounters = cursor.fetchall()\n",
    "\n",
    "#get the moveset for each encounter\n",
    "for mon in encounters:\n",
    "    \n",
    "    LOCATION = mon[0]\n",
    "    ENCOUNTER_ID = mon[1]\n",
    "    NAME = mon[2]\n",
    "    LV = mon[3]\n",
    "    \n",
    "    cursor.execute(\"SELECT PKID FROM POKEMON \\\n",
    "                    WHERE NAME =='\"+str(NAME)+\"';\")\n",
    "    PKID = cursor.fetchall()[0][0]\n",
    "    cursor.execute(\"SELECT MOVE FROM LEARNSETS \\\n",
    "                            WHERE PKID == \"+str(PKID)+\" \\\n",
    "                            AND LV <= \"+str(LV)+\" \\\n",
    "                            ORDER BY LV DESC LIMIT 4;\")\n",
    "    moveset = cursor.fetchall()\n",
    "    \n",
    "    #converting moveset to a list\n",
    "    moveset_as_list = []\n",
    "    for tuple_list in moveset:\n",
    "        moveset_as_list.append(tuple_list[0])\n",
    "        \n",
    "    #add moveset to wilds\n",
    "    if len(moveset_as_list) == 4:\n",
    "        cursor.execute(\"UPDATE WILDS \\\n",
    "                        SET MOVE1 = '\"+str(moveset_as_list[0])+\"', \\\n",
    "                            MOVE2 = '\"+str(moveset_as_list[1])+\"', \\\n",
    "                            MOVE3 = '\"+str(moveset_as_list[2])+\"', \\\n",
    "                            MOVE4 = '\"+str(moveset_as_list[3])+\"' \\\n",
    "                        WHERE LOCATION == '\"+str(LOCATION)+\"' \\\n",
    "                              AND ENCOUNTER_ID == \"+str(ENCOUNTER_ID)+\";\")\n",
    "        conn.commit()\n",
    "    elif len(moveset_as_list) == 3:\n",
    "        cursor.execute(\"UPDATE WILDS \\\n",
    "                        SET MOVE1 = '\"+str(moveset_as_list[0])+\"', \\\n",
    "                            MOVE2 = '\"+str(moveset_as_list[1])+\"', \\\n",
    "                            MOVE3 = '\"+str(moveset_as_list[2])+\"' \\\n",
    "                        WHERE LOCATION == '\"+str(LOCATION)+\"' \\\n",
    "                              AND ENCOUNTER_ID == \"+str(ENCOUNTER_ID)+\";\")\n",
    "        conn.commit()\n",
    "    elif len(moveset_as_list) == 2:\n",
    "        cursor.execute(\"UPDATE WILDS \\\n",
    "                        SET MOVE1 = '\"+str(moveset_as_list[0])+\"', \\\n",
    "                            MOVE2 = '\"+str(moveset_as_list[1])+\"' \\\n",
    "                        WHERE LOCATION == '\"+str(LOCATION)+\"' \\\n",
    "                              AND ENCOUNTER_ID == \"+str(ENCOUNTER_ID)+\";\")\n",
    "        conn.commit()\n",
    "    else:\n",
    "        cursor.execute(\"UPDATE WILDS \\\n",
    "                        SET MOVE1 = '\"+str(moveset_as_list[0])+\"' \\\n",
    "                        WHERE LOCATION == '\"+str(LOCATION)+\"' \\\n",
    "                              AND ENCOUNTER_ID == \"+str(ENCOUNTER_ID)+\";\")\n",
    "        conn.commit()\n",
    "    \n",
    "\n",
    "print(moveset_list)\n",
    "print(len(moveset_list))\n",
    "cursor.execute(\"SELECT * FROM WILDS WHERE LOCATION == 'mossdeepcity';\")\n",
    "print(cursor.fetchall())\n"
   ]
  },
  {
   "cell_type": "code",
   "execution_count": 97,
   "metadata": {
    "ExecuteTime": {
     "end_time": "2019-08-30T08:42:10.222487Z",
     "start_time": "2019-08-30T08:41:47.764099Z"
    }
   },
   "outputs": [],
   "source": [
    "#the final loop - all locations\n",
    "\n",
    "for loc in locations:\n",
    "    \n",
    "    #get encounter table for location\n",
    "    cursor.execute(\"SELECT * FROM WILDS WHERE LOCATION == '\"+str(loc)+\"';\")\n",
    "    encounters = cursor.fetchall()\n",
    "\n",
    "    for mon in encounters:\n",
    "        \n",
    "        #get moveset for a given encounter\n",
    "        LOCATION = mon[0]\n",
    "        ENCOUNTER_ID = mon[1]\n",
    "        NAME = mon[2]\n",
    "        LV = mon[3]\n",
    "\n",
    "        cursor.execute(\"SELECT PKID FROM POKEMON \\\n",
    "                        WHERE NAME =='\"+str(NAME)+\"';\")\n",
    "        PKID = cursor.fetchall()[0][0]\n",
    "        cursor.execute(\"SELECT MOVE FROM LEARNSETS \\\n",
    "                                WHERE PKID == \"+str(PKID)+\" \\\n",
    "                                AND LV <= \"+str(LV)+\" \\\n",
    "                                ORDER BY LV DESC LIMIT 4;\")\n",
    "        moveset = cursor.fetchall()\n",
    "\n",
    "        #converting moveset to a list\n",
    "        moveset_as_list = []\n",
    "        for tuple_list in moveset:\n",
    "            moveset_as_list.append(tuple_list[0])\n",
    "\n",
    "        #add moveset to wilds\n",
    "        if len(moveset_as_list) == 4:\n",
    "            cursor.execute(\"UPDATE WILDS \\\n",
    "                            SET MOVE1 = '\"+str(moveset_as_list[0])+\"', \\\n",
    "                                MOVE2 = '\"+str(moveset_as_list[1])+\"', \\\n",
    "                                MOVE3 = '\"+str(moveset_as_list[2])+\"', \\\n",
    "                                MOVE4 = '\"+str(moveset_as_list[3])+\"' \\\n",
    "                            WHERE LOCATION == '\"+str(LOCATION)+\"' \\\n",
    "                                  AND ENCOUNTER_ID == \"+str(ENCOUNTER_ID)+\";\")\n",
    "            conn.commit()\n",
    "        elif len(moveset_as_list) == 3:\n",
    "            cursor.execute(\"UPDATE WILDS \\\n",
    "                            SET MOVE1 = '\"+str(moveset_as_list[0])+\"', \\\n",
    "                                MOVE2 = '\"+str(moveset_as_list[1])+\"', \\\n",
    "                                MOVE3 = '\"+str(moveset_as_list[2])+\"' \\\n",
    "                            WHERE LOCATION == '\"+str(LOCATION)+\"' \\\n",
    "                                  AND ENCOUNTER_ID == \"+str(ENCOUNTER_ID)+\";\")\n",
    "            conn.commit()\n",
    "        elif len(moveset_as_list) == 2:\n",
    "            cursor.execute(\"UPDATE WILDS \\\n",
    "                            SET MOVE1 = '\"+str(moveset_as_list[0])+\"', \\\n",
    "                                MOVE2 = '\"+str(moveset_as_list[1])+\"' \\\n",
    "                            WHERE LOCATION == '\"+str(LOCATION)+\"' \\\n",
    "                                  AND ENCOUNTER_ID == \"+str(ENCOUNTER_ID)+\";\")\n",
    "            conn.commit()\n",
    "        else:\n",
    "            cursor.execute(\"UPDATE WILDS \\\n",
    "                            SET MOVE1 = '\"+str(moveset_as_list[0])+\"' \\\n",
    "                            WHERE LOCATION == '\"+str(LOCATION)+\"' \\\n",
    "                                  AND ENCOUNTER_ID == \"+str(ENCOUNTER_ID)+\";\")\n",
    "            conn.commit()\n"
   ]
  }
 ],
 "metadata": {
  "kernelspec": {
   "display_name": "Python 3",
   "language": "python",
   "name": "python3"
  },
  "language_info": {
   "codemirror_mode": {
    "name": "ipython",
    "version": 3
   },
   "file_extension": ".py",
   "mimetype": "text/x-python",
   "name": "python",
   "nbconvert_exporter": "python",
   "pygments_lexer": "ipython3",
   "version": "3.7.3"
  },
  "toc": {
   "base_numbering": 1,
   "nav_menu": {},
   "number_sections": true,
   "sideBar": true,
   "skip_h1_title": false,
   "title_cell": "Table of Contents",
   "title_sidebar": "Contents",
   "toc_cell": false,
   "toc_position": {},
   "toc_section_display": true,
   "toc_window_display": false
  },
  "varInspector": {
   "cols": {
    "lenName": 16,
    "lenType": 16,
    "lenVar": 40
   },
   "kernels_config": {
    "python": {
     "delete_cmd_postfix": "",
     "delete_cmd_prefix": "del ",
     "library": "var_list.py",
     "varRefreshCmd": "print(var_dic_list())"
    },
    "r": {
     "delete_cmd_postfix": ") ",
     "delete_cmd_prefix": "rm(",
     "library": "var_list.r",
     "varRefreshCmd": "cat(var_dic_list()) "
    }
   },
   "types_to_exclude": [
    "module",
    "function",
    "builtin_function_or_method",
    "instance",
    "_Feature"
   ],
   "window_display": false
  }
 },
 "nbformat": 4,
 "nbformat_minor": 2
}
